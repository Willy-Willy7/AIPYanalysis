{
 "cells": [
  {
   "cell_type": "code",
   "execution_count": null,
   "metadata": {
    "vscode": {
     "languageId": "plaintext"
    }
   },
   "outputs": [],
   "source": [
    "from src.data_preprocessing import load_data, preprocess_data, split_data\n",
    "from src.model import SentimentModel\n",
    "from sklearn.metrics import classification_report\n",
    "\n",
    "# Load and preprocess data\n",
    "data = load_data('data/sample_reviews.csv')\n",
    "data = preprocess_data(data)\n",
    "X_train, X_test, y_train, y_test = split_data(data)\n",
    "\n",
    "# Train the model\n",
    "model = SentimentModel()\n",
    "model.train(X_train, y_train)\n",
    "\n",
    "# Evaluate the model\n",
    "predictions = model.model.predict(X_test)\n",
    "print(classification_report(y_test, predictions))\n"
   ]
  }
 ],
 "metadata": {
  "language_info": {
   "name": "python"
  }
 },
 "nbformat": 4,
 "nbformat_minor": 2
}
